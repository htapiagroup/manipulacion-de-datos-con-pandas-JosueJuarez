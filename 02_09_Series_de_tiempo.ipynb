{
  "nbformat": 4,
  "nbformat_minor": 0,
  "metadata": {
    "anaconda-cloud": {},
    "kernelspec": {
      "display_name": "Python 3",
      "language": "python",
      "name": "python3"
    },
    "language_info": {
      "codemirror_mode": {
        "name": "ipython",
        "version": 3
      },
      "file_extension": ".py",
      "mimetype": "text/x-python",
      "name": "python",
      "nbconvert_exporter": "python",
      "pygments_lexer": "ipython3",
      "version": "3.7.1"
    },
    "colab": {
      "name": "02.09-Working-with-Time-Series.ipynb",
      "provenance": [],
      "include_colab_link": true
    }
  },
  "cells": [
    {
      "cell_type": "markdown",
      "metadata": {
        "id": "view-in-github",
        "colab_type": "text"
      },
      "source": [
        "<a href=\"https://colab.research.google.com/github/htapiagroup/manipulacion-de-datos-con-pandas-JosueJuarez/blob/master/02_09_Series_de_tiempo.ipynb\" target=\"_parent\"><img src=\"https://colab.research.google.com/assets/colab-badge.svg\" alt=\"Open In Colab\"/></a>"
      ]
    },
    {
      "cell_type": "markdown",
      "metadata": {
        "id": "4hnYd82YL8Ix",
        "colab_type": "text"
      },
      "source": [
        "# Series de tiempo"
      ]
    },
    {
      "cell_type": "markdown",
      "metadata": {
        "id": "EMtqkf_-L8Iy",
        "colab_type": "text"
      },
      "source": [
        "## Fechas y horas: representación del tiempo en Python "
      ]
    },
    {
      "cell_type": "markdown",
      "metadata": {
        "id": "RMCPKVzDL8Iz",
        "colab_type": "text"
      },
      "source": [
        "### Python natico: ``datetime`` y ``dateutil``"
      ]
    },
    {
      "cell_type": "code",
      "metadata": {
        "id": "P-l6Co-2L8Iz",
        "colab_type": "code",
        "colab": {},
        "outputId": "e34633e7-044e-45b9-97ad-f3e96b1b2b86"
      },
      "source": [
        "from datetime import datetime\n",
        "datetime(year=2015, month=7, day=4)"
      ],
      "execution_count": 0,
      "outputs": [
        {
          "output_type": "execute_result",
          "data": {
            "text/plain": [
              "datetime.datetime(2015, 7, 4, 0, 0)"
            ]
          },
          "metadata": {
            "tags": []
          },
          "execution_count": 1
        }
      ]
    },
    {
      "cell_type": "code",
      "metadata": {
        "id": "AmKc0UffL8I3",
        "colab_type": "code",
        "colab": {},
        "outputId": "2e6d511b-6302-41ed-f138-6296544261ca"
      },
      "source": [
        "from dateutil import parser\n",
        "date = parser.parse(\"4th of July, 2015\")\n",
        "date"
      ],
      "execution_count": 0,
      "outputs": [
        {
          "output_type": "execute_result",
          "data": {
            "text/plain": [
              "datetime.datetime(2015, 7, 4, 0, 0)"
            ]
          },
          "metadata": {
            "tags": []
          },
          "execution_count": 2
        }
      ]
    },
    {
      "cell_type": "code",
      "metadata": {
        "id": "b83KgKn4L8I7",
        "colab_type": "code",
        "colab": {},
        "outputId": "ab9168e6-baa7-45b4-a555-6abf6507e4c2"
      },
      "source": [
        "date.strftime('%A')"
      ],
      "execution_count": 0,
      "outputs": [
        {
          "output_type": "execute_result",
          "data": {
            "text/plain": [
              "'Saturday'"
            ]
          },
          "metadata": {
            "tags": []
          },
          "execution_count": 3
        }
      ]
    },
    {
      "cell_type": "markdown",
      "metadata": {
        "id": "YlxQPQ5tL8I9",
        "colab_type": "text"
      },
      "source": [
        "### Arrays de tipo tiempo:  ``datetime64`` de NumPy"
      ]
    },
    {
      "cell_type": "code",
      "metadata": {
        "id": "DeVWvQVDL8I-",
        "colab_type": "code",
        "colab": {},
        "outputId": "ce92ba55-c675-4e32-c9ba-a59ec6a46dc0"
      },
      "source": [
        "import numpy as np\n",
        "date = np.array('2015-07-04', dtype=np.datetime64)\n",
        "date"
      ],
      "execution_count": 0,
      "outputs": [
        {
          "output_type": "execute_result",
          "data": {
            "text/plain": [
              "array('2015-07-04', dtype='datetime64[D]')"
            ]
          },
          "metadata": {
            "tags": []
          },
          "execution_count": 4
        }
      ]
    },
    {
      "cell_type": "code",
      "metadata": {
        "id": "NJ7odeCrL8JA",
        "colab_type": "code",
        "colab": {},
        "outputId": "6335b245-1227-496f-c89e-bcd248c6e9d8"
      },
      "source": [
        "date + np.arange(12)"
      ],
      "execution_count": 0,
      "outputs": [
        {
          "output_type": "execute_result",
          "data": {
            "text/plain": [
              "array(['2015-07-04', '2015-07-05', '2015-07-06', '2015-07-07',\n",
              "       '2015-07-08', '2015-07-09', '2015-07-10', '2015-07-11',\n",
              "       '2015-07-12', '2015-07-13', '2015-07-14', '2015-07-15'],\n",
              "      dtype='datetime64[D]')"
            ]
          },
          "metadata": {
            "tags": []
          },
          "execution_count": 5
        }
      ]
    },
    {
      "cell_type": "code",
      "metadata": {
        "id": "agWxepw3L8JD",
        "colab_type": "code",
        "colab": {},
        "outputId": "3d5bebe7-c920-4fe5-fca6-22c7a5748ff6"
      },
      "source": [
        "np.datetime64('2015-07-04')"
      ],
      "execution_count": 0,
      "outputs": [
        {
          "output_type": "execute_result",
          "data": {
            "text/plain": [
              "numpy.datetime64('2015-07-04')"
            ]
          },
          "metadata": {
            "tags": []
          },
          "execution_count": 6
        }
      ]
    },
    {
      "cell_type": "code",
      "metadata": {
        "id": "NigZ9VhxL8JG",
        "colab_type": "code",
        "colab": {},
        "outputId": "ab3f4165-f2f3-4cd5-f95b-eba94ced9fad"
      },
      "source": [
        "np.datetime64('2015-07-04 12:00')"
      ],
      "execution_count": 0,
      "outputs": [
        {
          "output_type": "execute_result",
          "data": {
            "text/plain": [
              "numpy.datetime64('2015-07-04T12:00')"
            ]
          },
          "metadata": {
            "tags": []
          },
          "execution_count": 7
        }
      ]
    },
    {
      "cell_type": "code",
      "metadata": {
        "id": "Q-jROvTVL8JJ",
        "colab_type": "code",
        "colab": {},
        "outputId": "ee230869-ba8b-4755-df40-edf64602928c"
      },
      "source": [
        "np.datetime64('2015-07-04 12:59:59.50', 'ns')"
      ],
      "execution_count": 0,
      "outputs": [
        {
          "output_type": "execute_result",
          "data": {
            "text/plain": [
              "numpy.datetime64('2015-07-04T12:59:59.500000000')"
            ]
          },
          "metadata": {
            "tags": []
          },
          "execution_count": 8
        }
      ]
    },
    {
      "cell_type": "markdown",
      "metadata": {
        "id": "yubrKXxcL8JO",
        "colab_type": "text"
      },
      "source": [
        "|Code    | Meaning     | Time span (relative) | Time span (absolute)   |\n",
        "|--------|-------------|----------------------|------------------------|\n",
        "| ``Y``  | Year\t       | ± 9.2e18 years       | [9.2e18 BC, 9.2e18 AD] |\n",
        "| ``M``  | Month       | ± 7.6e17 years       | [7.6e17 BC, 7.6e17 AD] |\n",
        "| ``W``  | Week\t       | ± 1.7e17 years       | [1.7e17 BC, 1.7e17 AD] |\n",
        "| ``D``  | Day         | ± 2.5e16 years       | [2.5e16 BC, 2.5e16 AD] |\n",
        "| ``h``  | Hour        | ± 1.0e15 years       | [1.0e15 BC, 1.0e15 AD] |\n",
        "| ``m``  | Minute      | ± 1.7e13 years       | [1.7e13 BC, 1.7e13 AD] |\n",
        "| ``s``  | Second      | ± 2.9e12 years       | [ 2.9e9 BC, 2.9e9 AD]  |\n",
        "| ``ms`` | Millisecond | ± 2.9e9 years        | [ 2.9e6 BC, 2.9e6 AD]  |\n",
        "| ``us`` | Microsecond | ± 2.9e6 years        | [290301 BC, 294241 AD] |\n",
        "| ``ns`` | Nanosecond  | ± 292 years          | [ 1678 AD, 2262 AD]    |\n",
        "| ``ps`` | Picosecond  | ± 106 days           | [ 1969 AD, 1970 AD]    |\n",
        "| ``fs`` | Femtosecond | ± 2.6 hours          | [ 1969 AD, 1970 AD]    |\n",
        "| ``as`` | Attosecond  | ± 9.2 seconds        | [ 1969 AD, 1970 AD]    |"
      ]
    },
    {
      "cell_type": "markdown",
      "metadata": {
        "id": "2LAPi13_L8JP",
        "colab_type": "text"
      },
      "source": [
        "### Fechas y horas en Pandas: lo mejor de los dos mundos"
      ]
    },
    {
      "cell_type": "code",
      "metadata": {
        "id": "Gs3JJLyDL8JQ",
        "colab_type": "code",
        "colab": {},
        "outputId": "34e89e0d-b188-4c34-ed8d-a7344631beec"
      },
      "source": [
        "import pandas as pd\n",
        "date = pd.to_datetime(\"4th of July, 2015\")\n",
        "date"
      ],
      "execution_count": 0,
      "outputs": [
        {
          "output_type": "execute_result",
          "data": {
            "text/plain": [
              "Timestamp('2015-07-04 00:00:00')"
            ]
          },
          "metadata": {
            "tags": []
          },
          "execution_count": 9
        }
      ]
    },
    {
      "cell_type": "code",
      "metadata": {
        "id": "Fkj3ng03L8JT",
        "colab_type": "code",
        "colab": {},
        "outputId": "8d77bdd7-0424-4cc5-b111-bb8509aee651"
      },
      "source": [
        "date.strftime('%A')"
      ],
      "execution_count": 0,
      "outputs": [
        {
          "output_type": "execute_result",
          "data": {
            "text/plain": [
              "'Saturday'"
            ]
          },
          "metadata": {
            "tags": []
          },
          "execution_count": 10
        }
      ]
    },
    {
      "cell_type": "code",
      "metadata": {
        "id": "xevUGo2tL8JW",
        "colab_type": "code",
        "colab": {},
        "outputId": "0d94da02-a7b6-407e-9b8c-a26aed3b9a3c"
      },
      "source": [
        "date + pd.to_timedelta(np.arange(12), 'D')"
      ],
      "execution_count": 0,
      "outputs": [
        {
          "output_type": "execute_result",
          "data": {
            "text/plain": [
              "DatetimeIndex(['2015-07-04', '2015-07-05', '2015-07-06', '2015-07-07',\n",
              "               '2015-07-08', '2015-07-09', '2015-07-10', '2015-07-11',\n",
              "               '2015-07-12', '2015-07-13', '2015-07-14', '2015-07-15'],\n",
              "              dtype='datetime64[ns]', freq=None)"
            ]
          },
          "metadata": {
            "tags": []
          },
          "execution_count": 11
        }
      ]
    },
    {
      "cell_type": "markdown",
      "metadata": {
        "id": "oEyHxM-xL8JY",
        "colab_type": "text"
      },
      "source": [
        "##  Series de Tiempo en Pandas: Indexado por el tiempo"
      ]
    },
    {
      "cell_type": "code",
      "metadata": {
        "id": "IsgjdjTAL8JZ",
        "colab_type": "code",
        "colab": {},
        "outputId": "2297fa08-cfb7-4094-98b1-875b8a0ef7d6"
      },
      "source": [
        "index = pd.DatetimeIndex(['2014-07-04', '2014-08-04',\n",
        "                          '2015-07-04', '2015-08-04'])\n",
        "data = pd.Series([0, 1, 2, 3], index=index)\n",
        "data"
      ],
      "execution_count": 0,
      "outputs": [
        {
          "output_type": "execute_result",
          "data": {
            "text/plain": [
              "2014-07-04    0\n",
              "2014-08-04    1\n",
              "2015-07-04    2\n",
              "2015-08-04    3\n",
              "dtype: int64"
            ]
          },
          "metadata": {
            "tags": []
          },
          "execution_count": 12
        }
      ]
    },
    {
      "cell_type": "code",
      "metadata": {
        "id": "4KqmOJcXL8Jd",
        "colab_type": "code",
        "colab": {},
        "outputId": "b251c4d9-9def-4395-93fe-5ad555f06e9b"
      },
      "source": [
        "data['2014-07-04':'2015-07-04']"
      ],
      "execution_count": 0,
      "outputs": [
        {
          "output_type": "execute_result",
          "data": {
            "text/plain": [
              "2014-07-04    0\n",
              "2014-08-04    1\n",
              "2015-07-04    2\n",
              "dtype: int64"
            ]
          },
          "metadata": {
            "tags": []
          },
          "execution_count": 13
        }
      ]
    },
    {
      "cell_type": "code",
      "metadata": {
        "id": "oiFeaHDAL8Jf",
        "colab_type": "code",
        "colab": {},
        "outputId": "3a74fd8a-8b11-490b-f555-e1f38ac3cbd1"
      },
      "source": [
        "data['2015']"
      ],
      "execution_count": 0,
      "outputs": [
        {
          "output_type": "execute_result",
          "data": {
            "text/plain": [
              "2015-07-04    2\n",
              "2015-08-04    3\n",
              "dtype: int64"
            ]
          },
          "metadata": {
            "tags": []
          },
          "execution_count": 14
        }
      ]
    },
    {
      "cell_type": "markdown",
      "metadata": {
        "id": "KpVTTNK1L8Ji",
        "colab_type": "text"
      },
      "source": [
        "## Estructuras de Series de tiempo en Pandas\n",
        "\n",
        "- Para *Marcas de tiempo*, Pandas proporciona ``Timestamp``. Como se menciono anteriormente, es esencialmente un remplazo para la fecha y hora ativa de Python ``datetime``, pero se basa en el tipo de dato mas eficiente ``numpy.datetime64``. La estructura de indice asociada es ``DatetimeIndex``.\n",
        "- Para *periodos de tiempo*, Pandas proporciona el tipo ``Period``. esto codifica un intervalo de frecuencia fija basado en ``numpy.datetime64``. La estructura de indice asociada es ``PeriodIndex``.\n",
        "- Para *duraciones* or *deltas de tiempo*, Pandas proporciona el tipo ``Timedelta``. ``Timedelta`` es el remplazo mas eficiente para el tipo nativo de Python ``datetime.timedelta``, y esta basado en ``numpy.timedelta64``. La estructura de indice asociada es ``TimedeltaIndex``."
      ]
    },
    {
      "cell_type": "code",
      "metadata": {
        "id": "qSreHx9WL8Jj",
        "colab_type": "code",
        "colab": {},
        "outputId": "94eeab46-c64d-4c28-894b-1f677a28c4b4"
      },
      "source": [
        "dates = pd.to_datetime([datetime(2015, 7, 3), '4th of July, 2015',\n",
        "                       '2015-Jul-6', '07-07-2015', '20150708'])\n",
        "dates"
      ],
      "execution_count": 0,
      "outputs": [
        {
          "output_type": "execute_result",
          "data": {
            "text/plain": [
              "DatetimeIndex(['2015-07-03', '2015-07-04', '2015-07-06', '2015-07-07',\n",
              "               '2015-07-08'],\n",
              "              dtype='datetime64[ns]', freq=None)"
            ]
          },
          "metadata": {
            "tags": []
          },
          "execution_count": 15
        }
      ]
    },
    {
      "cell_type": "code",
      "metadata": {
        "id": "VyJyRMDFL8Jl",
        "colab_type": "code",
        "colab": {},
        "outputId": "3ce4a59c-9d37-4be2-c48c-f3e1ed845676"
      },
      "source": [
        "dates.to_period('D')"
      ],
      "execution_count": 0,
      "outputs": [
        {
          "output_type": "execute_result",
          "data": {
            "text/plain": [
              "PeriodIndex(['2015-07-03', '2015-07-04', '2015-07-06', '2015-07-07',\n",
              "             '2015-07-08'],\n",
              "            dtype='period[D]', freq='D')"
            ]
          },
          "metadata": {
            "tags": []
          },
          "execution_count": 16
        }
      ]
    },
    {
      "cell_type": "code",
      "metadata": {
        "id": "mf23WbCRL8Jp",
        "colab_type": "code",
        "colab": {},
        "outputId": "1da864d4-0a18-4844-c753-ba29242e6691"
      },
      "source": [
        "dates - dates[0]"
      ],
      "execution_count": 0,
      "outputs": [
        {
          "output_type": "execute_result",
          "data": {
            "text/plain": [
              "TimedeltaIndex(['0 days', '1 days', '3 days', '4 days', '5 days'], dtype='timedelta64[ns]', freq=None)"
            ]
          },
          "metadata": {
            "tags": []
          },
          "execution_count": 17
        }
      ]
    },
    {
      "cell_type": "markdown",
      "metadata": {
        "id": "gVUWTBxBL8Ju",
        "colab_type": "text"
      },
      "source": [
        "### Sucesiones regulares: ``pd.date_range()``"
      ]
    },
    {
      "cell_type": "code",
      "metadata": {
        "id": "MHlciR0wL8Jx",
        "colab_type": "code",
        "colab": {},
        "outputId": "d69c7d7b-e02b-4006-e29e-0190174fdcab"
      },
      "source": [
        "pd.date_range('2015-07-03', '2015-07-10')"
      ],
      "execution_count": 0,
      "outputs": [
        {
          "output_type": "execute_result",
          "data": {
            "text/plain": [
              "DatetimeIndex(['2015-07-03', '2015-07-04', '2015-07-05', '2015-07-06',\n",
              "               '2015-07-07', '2015-07-08', '2015-07-09', '2015-07-10'],\n",
              "              dtype='datetime64[ns]', freq='D')"
            ]
          },
          "metadata": {
            "tags": []
          },
          "execution_count": 18
        }
      ]
    },
    {
      "cell_type": "code",
      "metadata": {
        "id": "KmMXY2FQL8KE",
        "colab_type": "code",
        "colab": {},
        "outputId": "61fbe22b-05dd-481f-eea3-f09510047cf5"
      },
      "source": [
        "pd.date_range('2015-07-03', periods=8)"
      ],
      "execution_count": 0,
      "outputs": [
        {
          "output_type": "execute_result",
          "data": {
            "text/plain": [
              "DatetimeIndex(['2015-07-03', '2015-07-04', '2015-07-05', '2015-07-06',\n",
              "               '2015-07-07', '2015-07-08', '2015-07-09', '2015-07-10'],\n",
              "              dtype='datetime64[ns]', freq='D')"
            ]
          },
          "metadata": {
            "tags": []
          },
          "execution_count": 19
        }
      ]
    },
    {
      "cell_type": "code",
      "metadata": {
        "id": "WFAiMdldL8KH",
        "colab_type": "code",
        "colab": {},
        "outputId": "d29f5dcc-37af-428c-9a1a-82c9e0dbf896"
      },
      "source": [
        "pd.date_range('2015-07-03', periods=8, freq='H')"
      ],
      "execution_count": 0,
      "outputs": [
        {
          "output_type": "execute_result",
          "data": {
            "text/plain": [
              "DatetimeIndex(['2015-07-03 00:00:00', '2015-07-03 01:00:00',\n",
              "               '2015-07-03 02:00:00', '2015-07-03 03:00:00',\n",
              "               '2015-07-03 04:00:00', '2015-07-03 05:00:00',\n",
              "               '2015-07-03 06:00:00', '2015-07-03 07:00:00'],\n",
              "              dtype='datetime64[ns]', freq='H')"
            ]
          },
          "metadata": {
            "tags": []
          },
          "execution_count": 20
        }
      ]
    },
    {
      "cell_type": "code",
      "metadata": {
        "id": "RYQHJkIvL8KM",
        "colab_type": "code",
        "colab": {},
        "outputId": "198b10ad-20b0-46fc-da12-ea60bf1210f3"
      },
      "source": [
        "pd.period_range('2015-07', periods=8, freq='M')"
      ],
      "execution_count": 0,
      "outputs": [
        {
          "output_type": "execute_result",
          "data": {
            "text/plain": [
              "PeriodIndex(['2015-07', '2015-08', '2015-09', '2015-10', '2015-11', '2015-12',\n",
              "             '2016-01', '2016-02'],\n",
              "            dtype='period[M]', freq='M')"
            ]
          },
          "metadata": {
            "tags": []
          },
          "execution_count": 21
        }
      ]
    },
    {
      "cell_type": "code",
      "metadata": {
        "id": "TuVCx3B3L8KU",
        "colab_type": "code",
        "colab": {},
        "outputId": "9c649fc9-dbb2-4453-8474-ea77bd03eda0"
      },
      "source": [
        "pd.timedelta_range(0, periods=10, freq='H')"
      ],
      "execution_count": 0,
      "outputs": [
        {
          "output_type": "execute_result",
          "data": {
            "text/plain": [
              "TimedeltaIndex(['00:00:00', '01:00:00', '02:00:00', '03:00:00', '04:00:00',\n",
              "                '05:00:00', '06:00:00', '07:00:00', '08:00:00', '09:00:00'],\n",
              "               dtype='timedelta64[ns]', freq='H')"
            ]
          },
          "metadata": {
            "tags": []
          },
          "execution_count": 22
        }
      ]
    },
    {
      "cell_type": "markdown",
      "metadata": {
        "id": "1aYoppBRL8KZ",
        "colab_type": "text"
      },
      "source": [
        "## Frecuencias e intervalos (offsets)"
      ]
    },
    {
      "cell_type": "markdown",
      "metadata": {
        "id": "FLpYtNyRL8Ka",
        "colab_type": "text"
      },
      "source": [
        "| Code   | Description         | Code   | Description          |\n",
        "|--------|---------------------|--------|----------------------|\n",
        "| ``D``  | Calendar day        | ``B``  | Business day         |\n",
        "| ``W``  | Weekly              |        |                      |\n",
        "| ``M``  | Month end           | ``BM`` | Business month end   |\n",
        "| ``Q``  | Quarter end         | ``BQ`` | Business quarter end |\n",
        "| ``A``  | Year end            | ``BA`` | Business year end    |\n",
        "| ``H``  | Hours               | ``BH`` | Business hours       |\n",
        "| ``T``  | Minutes             |        |                      |\n",
        "| ``S``  | Seconds             |        |                      |\n",
        "| ``L``  | Milliseonds         |        |                      |\n",
        "| ``U``  | Microseconds        |        |                      |\n",
        "| ``N``  | nanoseconds         |        |                      |"
      ]
    },
    {
      "cell_type": "markdown",
      "metadata": {
        "id": "cPktCLzYL8Kb",
        "colab_type": "text"
      },
      "source": [
        "| Code    | Description            | Code    | Description            |\n",
        "|---------|------------------------|---------|------------------------|\n",
        "| ``MS``  | Month start            |``BMS``  | Business month start   |\n",
        "| ``QS``  | Quarter start          |``BQS``  | Business quarter start |\n",
        "| ``AS``  | Year start             |``BAS``  | Business year start    |"
      ]
    },
    {
      "cell_type": "markdown",
      "metadata": {
        "id": "oca23N6NL8Kc",
        "colab_type": "text"
      },
      "source": [
        "- ``Q-JAN``, ``BQ-FEB``, ``QS-MAR``, ``BQS-APR``, etc.\n",
        "- ``A-JAN``, ``BA-FEB``, ``AS-MAR``, ``BAS-APR``, etc.\n",
        "\n",
        "\n",
        "- ``W-SUN``, ``W-MON``, ``W-TUE``, ``W-WED``, etc.\n"
      ]
    },
    {
      "cell_type": "code",
      "metadata": {
        "id": "tx44ozMSL8Kd",
        "colab_type": "code",
        "colab": {},
        "outputId": "82b618bf-9d4c-4aca-ae9c-eed9875f9331"
      },
      "source": [
        "pd.timedelta_range(0, periods=9, freq=\"2H30T\")"
      ],
      "execution_count": 0,
      "outputs": [
        {
          "output_type": "execute_result",
          "data": {
            "text/plain": [
              "TimedeltaIndex(['00:00:00', '02:30:00', '05:00:00', '07:30:00', '10:00:00',\n",
              "                '12:30:00', '15:00:00', '17:30:00', '20:00:00'],\n",
              "               dtype='timedelta64[ns]', freq='150T')"
            ]
          },
          "metadata": {
            "tags": []
          },
          "execution_count": 23
        }
      ]
    },
    {
      "cell_type": "code",
      "metadata": {
        "id": "EwSlnT_xL8Kl",
        "colab_type": "code",
        "colab": {},
        "outputId": "bcefbda2-eaea-4214-b78e-bd996928f420"
      },
      "source": [
        "from pandas.tseries.offsets import BDay\n",
        "pd.date_range('2015-07-01', periods=5, freq=BDay())"
      ],
      "execution_count": 0,
      "outputs": [
        {
          "output_type": "execute_result",
          "data": {
            "text/plain": [
              "DatetimeIndex(['2015-07-01', '2015-07-02', '2015-07-03', '2015-07-06',\n",
              "               '2015-07-07'],\n",
              "              dtype='datetime64[ns]', freq='B')"
            ]
          },
          "metadata": {
            "tags": []
          },
          "execution_count": 24
        }
      ]
    },
    {
      "cell_type": "markdown",
      "metadata": {
        "id": "E-GwbFHXL8Kn",
        "colab_type": "text"
      },
      "source": [
        "## Muestreo, Cambios y Ventanas (resample, shift and windows)"
      ]
    },
    {
      "cell_type": "code",
      "metadata": {
        "id": "QMGuaS6JL8Ko",
        "colab_type": "code",
        "colab": {},
        "outputId": "9226fd2a-e7c4-4605-f7db-bed25cef57eb"
      },
      "source": [
        "#implementar conexion en data_source='google'\n",
        "from pandas_datareader import data\n",
        "\n",
        "goog = data.DataReader('GOOG', start='2004', end='2016',\n",
        "                       data_source='google')\n",
        "goog.head()"
      ],
      "execution_count": 0,
      "outputs": [
        {
          "output_type": "error",
          "ename": "NotImplementedError",
          "evalue": "data_source='google' is not implemented",
          "traceback": [
            "\u001b[1;31m---------------------------------------------------------------------------\u001b[0m",
            "\u001b[1;31mNotImplementedError\u001b[0m                       Traceback (most recent call last)",
            "\u001b[1;32m<ipython-input-25-012484ac5f6a>\u001b[0m in \u001b[0;36m<module>\u001b[1;34m\u001b[0m\n\u001b[0;32m      3\u001b[0m \u001b[1;33m\u001b[0m\u001b[0m\n\u001b[0;32m      4\u001b[0m goog = data.DataReader('GOOG', start='2004', end='2016',\n\u001b[1;32m----> 5\u001b[1;33m                        data_source='google')\n\u001b[0m\u001b[0;32m      6\u001b[0m \u001b[0mgoog\u001b[0m\u001b[1;33m.\u001b[0m\u001b[0mhead\u001b[0m\u001b[1;33m(\u001b[0m\u001b[1;33m)\u001b[0m\u001b[1;33m\u001b[0m\u001b[1;33m\u001b[0m\u001b[0m\n",
            "\u001b[1;32md:\\program files\\python\\lib\\site-packages\\pandas\\util\\_decorators.py\u001b[0m in \u001b[0;36mwrapper\u001b[1;34m(*args, **kwargs)\u001b[0m\n\u001b[0;32m    206\u001b[0m                 \u001b[1;32melse\u001b[0m\u001b[1;33m:\u001b[0m\u001b[1;33m\u001b[0m\u001b[1;33m\u001b[0m\u001b[0m\n\u001b[0;32m    207\u001b[0m                     \u001b[0mkwargs\u001b[0m\u001b[1;33m[\u001b[0m\u001b[0mnew_arg_name\u001b[0m\u001b[1;33m]\u001b[0m \u001b[1;33m=\u001b[0m \u001b[0mnew_arg_value\u001b[0m\u001b[1;33m\u001b[0m\u001b[1;33m\u001b[0m\u001b[0m\n\u001b[1;32m--> 208\u001b[1;33m             \u001b[1;32mreturn\u001b[0m \u001b[0mfunc\u001b[0m\u001b[1;33m(\u001b[0m\u001b[1;33m*\u001b[0m\u001b[0margs\u001b[0m\u001b[1;33m,\u001b[0m \u001b[1;33m**\u001b[0m\u001b[0mkwargs\u001b[0m\u001b[1;33m)\u001b[0m\u001b[1;33m\u001b[0m\u001b[1;33m\u001b[0m\u001b[0m\n\u001b[0m\u001b[0;32m    209\u001b[0m \u001b[1;33m\u001b[0m\u001b[0m\n\u001b[0;32m    210\u001b[0m         \u001b[1;32mreturn\u001b[0m \u001b[0mwrapper\u001b[0m\u001b[1;33m\u001b[0m\u001b[1;33m\u001b[0m\u001b[0m\n",
            "\u001b[1;32md:\\program files\\python\\lib\\site-packages\\pandas_datareader\\data.py\u001b[0m in \u001b[0;36mDataReader\u001b[1;34m(name, data_source, start, end, retry_count, pause, session, api_key)\u001b[0m\n\u001b[0;32m    374\u001b[0m     \u001b[1;32mif\u001b[0m \u001b[0mdata_source\u001b[0m \u001b[1;32mnot\u001b[0m \u001b[1;32min\u001b[0m \u001b[0mexpected_source\u001b[0m\u001b[1;33m:\u001b[0m\u001b[1;33m\u001b[0m\u001b[1;33m\u001b[0m\u001b[0m\n\u001b[0;32m    375\u001b[0m         \u001b[0mmsg\u001b[0m \u001b[1;33m=\u001b[0m \u001b[1;34m\"data_source=%r is not implemented\"\u001b[0m \u001b[1;33m%\u001b[0m \u001b[0mdata_source\u001b[0m\u001b[1;33m\u001b[0m\u001b[1;33m\u001b[0m\u001b[0m\n\u001b[1;32m--> 376\u001b[1;33m         \u001b[1;32mraise\u001b[0m \u001b[0mNotImplementedError\u001b[0m\u001b[1;33m(\u001b[0m\u001b[0mmsg\u001b[0m\u001b[1;33m)\u001b[0m\u001b[1;33m\u001b[0m\u001b[1;33m\u001b[0m\u001b[0m\n\u001b[0m\u001b[0;32m    377\u001b[0m \u001b[1;33m\u001b[0m\u001b[0m\n\u001b[0;32m    378\u001b[0m     \u001b[1;32mif\u001b[0m \u001b[0mdata_source\u001b[0m \u001b[1;33m==\u001b[0m \u001b[1;34m\"yahoo\"\u001b[0m\u001b[1;33m:\u001b[0m\u001b[1;33m\u001b[0m\u001b[1;33m\u001b[0m\u001b[0m\n",
            "\u001b[1;31mNotImplementedError\u001b[0m: data_source='google' is not implemented"
          ]
        }
      ]
    },
    {
      "cell_type": "code",
      "metadata": {
        "id": "Q4Qp3oarL8Kq",
        "colab_type": "code",
        "colab": {},
        "outputId": "27263da4-32d1-46e7-9121-91c7ab49ed6a"
      },
      "source": [
        "goog = goog['Close']"
      ],
      "execution_count": 0,
      "outputs": [
        {
          "output_type": "error",
          "ename": "NameError",
          "evalue": "name 'goog' is not defined",
          "traceback": [
            "\u001b[1;31m---------------------------------------------------------------------------\u001b[0m",
            "\u001b[1;31mNameError\u001b[0m                                 Traceback (most recent call last)",
            "\u001b[1;32m<ipython-input-26-f4c2a8053b5d>\u001b[0m in \u001b[0;36m<module>\u001b[1;34m\u001b[0m\n\u001b[1;32m----> 1\u001b[1;33m \u001b[0mgoog\u001b[0m \u001b[1;33m=\u001b[0m \u001b[0mgoog\u001b[0m\u001b[1;33m[\u001b[0m\u001b[1;34m'Close'\u001b[0m\u001b[1;33m]\u001b[0m\u001b[1;33m\u001b[0m\u001b[1;33m\u001b[0m\u001b[0m\n\u001b[0m",
            "\u001b[1;31mNameError\u001b[0m: name 'goog' is not defined"
          ]
        }
      ]
    },
    {
      "cell_type": "code",
      "metadata": {
        "id": "0tHtXSpvL8Kt",
        "colab_type": "code",
        "colab": {}
      },
      "source": [
        "%matplotlib inline\n",
        "import matplotlib.pyplot as plt\n",
        "import seaborn; seaborn.set()"
      ],
      "execution_count": 0,
      "outputs": []
    },
    {
      "cell_type": "code",
      "metadata": {
        "id": "SjZAKtADL8Kw",
        "colab_type": "code",
        "colab": {}
      },
      "source": [
        "goog.plot();"
      ],
      "execution_count": 0,
      "outputs": []
    },
    {
      "cell_type": "markdown",
      "metadata": {
        "id": "WGUNhjmEL8K0",
        "colab_type": "text"
      },
      "source": [
        "### Muestres y conversión de frecuencias"
      ]
    },
    {
      "cell_type": "code",
      "metadata": {
        "id": "O4PRij8rL8K1",
        "colab_type": "code",
        "colab": {}
      },
      "source": [
        "goog.plot(alpha=0.5, style='-')\n",
        "goog.resample('BA').mean().plot(style=':')\n",
        "goog.asfreq('BA').plot(style='--');\n",
        "plt.legend(['input', 'resample', 'asfreq'],\n",
        "           loc='upper left');"
      ],
      "execution_count": 0,
      "outputs": []
    },
    {
      "cell_type": "code",
      "metadata": {
        "id": "0gdwM_GYL8K5",
        "colab_type": "code",
        "colab": {}
      },
      "source": [
        "fig, ax = plt.subplots(2, sharex=True)\n",
        "data = goog.iloc[:10]\n",
        "\n",
        "data.asfreq('D').plot(ax=ax[0], marker='o')\n",
        "\n",
        "data.asfreq('D', method='bfill').plot(ax=ax[1], style='-o')\n",
        "data.asfreq('D', method='ffill').plot(ax=ax[1], style='--o')\n",
        "ax[1].legend([\"back-fill\", \"forward-fill\"]);"
      ],
      "execution_count": 0,
      "outputs": []
    },
    {
      "cell_type": "markdown",
      "metadata": {
        "id": "mxKNYua4L8K7",
        "colab_type": "text"
      },
      "source": [
        "### Cambios de tiempos (time-shifts)"
      ]
    },
    {
      "cell_type": "code",
      "metadata": {
        "id": "atKooIdxL8K8",
        "colab_type": "code",
        "colab": {}
      },
      "source": [
        "fig, ax = plt.subplots(3, sharey=True)\n",
        "\n",
        "# apply a frequency to the data\n",
        "goog = goog.asfreq('D', method='pad')\n",
        "\n",
        "goog.plot(ax=ax[0])\n",
        "goog.shift(900).plot(ax=ax[1])\n",
        "goog.tshift(900).plot(ax=ax[2])\n",
        "\n",
        "# legends and annotations\n",
        "local_max = pd.to_datetime('2007-11-05')\n",
        "offset = pd.Timedelta(900, 'D')\n",
        "\n",
        "ax[0].legend(['input'], loc=2)\n",
        "ax[0].get_xticklabels()[2].set(weight='heavy', color='red')\n",
        "ax[0].axvline(local_max, alpha=0.3, color='red')\n",
        "\n",
        "ax[1].legend(['shift(900)'], loc=2)\n",
        "ax[1].get_xticklabels()[2].set(weight='heavy', color='red')\n",
        "ax[1].axvline(local_max + offset, alpha=0.3, color='red')\n",
        "\n",
        "ax[2].legend(['tshift(900)'], loc=2)\n",
        "ax[2].get_xticklabels()[1].set(weight='heavy', color='red')\n",
        "ax[2].axvline(local_max + offset, alpha=0.3, color='red');"
      ],
      "execution_count": 0,
      "outputs": []
    },
    {
      "cell_type": "code",
      "metadata": {
        "id": "5o7Mp3WaL8K-",
        "colab_type": "code",
        "colab": {}
      },
      "source": [
        "ROI = 100 * (goog.tshift(-365) / goog - 1)\n",
        "ROI.plot()\n",
        "plt.ylabel('% Return on Investment');"
      ],
      "execution_count": 0,
      "outputs": []
    },
    {
      "cell_type": "markdown",
      "metadata": {
        "id": "14isw7oTL8LC",
        "colab_type": "text"
      },
      "source": [
        "### Ventanas móviles (rolling windows)"
      ]
    },
    {
      "cell_type": "code",
      "metadata": {
        "id": "dDBgCjC9L8LD",
        "colab_type": "code",
        "colab": {}
      },
      "source": [
        "rolling = goog.rolling(365, center=True)\n",
        "\n",
        "data = pd.DataFrame({'input': goog,\n",
        "                     'one-year rolling_mean': rolling.mean(),\n",
        "                     'one-year rolling_std': rolling.std()})\n",
        "ax = data.plot(style=['-', '--', ':'])\n",
        "ax.lines[0].set_alpha(0.3)"
      ],
      "execution_count": 0,
      "outputs": []
    },
    {
      "cell_type": "markdown",
      "metadata": {
        "id": "EuE1EHmHL8LI",
        "colab_type": "text"
      },
      "source": [
        "## Información adicional\n",
        "\n",
        "- Referirse a la sección [\"Time Series/Date\"](http://pandas.pydata.org/pandas-docs/stable/timeseries.html) de la documentación.\n"
      ]
    },
    {
      "cell_type": "markdown",
      "metadata": {
        "id": "WPepNuzHL8LI",
        "colab_type": "text"
      },
      "source": [
        "## Ejemplo: Visualización del número de bicicletas en Seattle "
      ]
    },
    {
      "cell_type": "code",
      "metadata": {
        "id": "jHwExNG7L8LJ",
        "colab_type": "code",
        "colab": {}
      },
      "source": [
        "# !curl -o FremontBridge.csv https://data.seattle.gov/api/views/65db-xm6k/rows.csv?accessType=DOWNLOAD"
      ],
      "execution_count": 0,
      "outputs": []
    },
    {
      "cell_type": "code",
      "metadata": {
        "id": "i107k7ADL8LL",
        "colab_type": "code",
        "colab": {}
      },
      "source": [
        "data = pd.read_csv('FremontBridge.csv', index_col='Date', parse_dates=True)\n",
        "data.head()"
      ],
      "execution_count": 0,
      "outputs": []
    },
    {
      "cell_type": "code",
      "metadata": {
        "id": "GQQvXnOOL8LN",
        "colab_type": "code",
        "colab": {}
      },
      "source": [
        "data.columns = ['West', 'East']\n",
        "data['Total'] = data.eval('West + East')"
      ],
      "execution_count": 0,
      "outputs": []
    },
    {
      "cell_type": "code",
      "metadata": {
        "id": "n8Oi0CLCL8LQ",
        "colab_type": "code",
        "colab": {}
      },
      "source": [
        "data.dropna().describe()"
      ],
      "execution_count": 0,
      "outputs": []
    },
    {
      "cell_type": "markdown",
      "metadata": {
        "id": "aE9X2vIkL8LY",
        "colab_type": "text"
      },
      "source": [
        "### Visualizando los datos"
      ]
    },
    {
      "cell_type": "code",
      "metadata": {
        "id": "IVceE_DoL8LZ",
        "colab_type": "code",
        "colab": {}
      },
      "source": [
        "%matplotlib inline\n",
        "import seaborn; seaborn.set()"
      ],
      "execution_count": 0,
      "outputs": []
    },
    {
      "cell_type": "code",
      "metadata": {
        "id": "QTSeRujWL8Lo",
        "colab_type": "code",
        "colab": {}
      },
      "source": [
        "data.plot()\n",
        "plt.ylabel('Hourly Bicycle Count');"
      ],
      "execution_count": 0,
      "outputs": []
    },
    {
      "cell_type": "code",
      "metadata": {
        "id": "OSdJPAakL8Lq",
        "colab_type": "code",
        "colab": {}
      },
      "source": [
        "weekly = data.resample('W').sum()\n",
        "weekly.plot(style=[':', '--', '-'])\n",
        "plt.ylabel('Weekly bicycle count');"
      ],
      "execution_count": 0,
      "outputs": []
    },
    {
      "cell_type": "code",
      "metadata": {
        "id": "oh-Zk5v-L8Ls",
        "colab_type": "code",
        "colab": {}
      },
      "source": [
        "daily = data.resample('D').sum()\n",
        "daily.rolling(30, center=True).sum().plot(style=[':', '--', '-'])\n",
        "plt.ylabel('mean hourly count');"
      ],
      "execution_count": 0,
      "outputs": []
    },
    {
      "cell_type": "code",
      "metadata": {
        "id": "RYzPUHmHL8Lv",
        "colab_type": "code",
        "colab": {}
      },
      "source": [
        "daily.rolling(50, center=True,\n",
        "              win_type='gaussian').sum(std=10).plot(style=[':', '--', '-']);"
      ],
      "execution_count": 0,
      "outputs": []
    },
    {
      "cell_type": "markdown",
      "metadata": {
        "id": "BhHmMlPkL8L4",
        "colab_type": "text"
      },
      "source": [
        "### Profundizando en los datos"
      ]
    },
    {
      "cell_type": "code",
      "metadata": {
        "id": "SDR-28jdL8L5",
        "colab_type": "code",
        "colab": {}
      },
      "source": [
        "by_time = data.groupby(data.index.time).mean()\n",
        "hourly_ticks = 4 * 60 * 60 * np.arange(6)\n",
        "by_time.plot(xticks=hourly_ticks, style=[':', '--', '-']);"
      ],
      "execution_count": 0,
      "outputs": []
    },
    {
      "cell_type": "code",
      "metadata": {
        "id": "Lv2GQBc5L8L7",
        "colab_type": "code",
        "colab": {}
      },
      "source": [
        "by_weekday = data.groupby(data.index.dayofweek).mean()\n",
        "by_weekday.index = ['Mon', 'Tues', 'Wed', 'Thurs', 'Fri', 'Sat', 'Sun']\n",
        "by_weekday.plot(style=[':', '--', '-']);"
      ],
      "execution_count": 0,
      "outputs": []
    },
    {
      "cell_type": "code",
      "metadata": {
        "id": "gdLptNjpL8L9",
        "colab_type": "code",
        "colab": {}
      },
      "source": [
        "weekend = np.where(data.index.weekday < 5, 'Weekday', 'Weekend')\n",
        "by_time = data.groupby([weekend, data.index.time]).mean()"
      ],
      "execution_count": 0,
      "outputs": []
    },
    {
      "cell_type": "code",
      "metadata": {
        "id": "36drAhWBL8MA",
        "colab_type": "code",
        "colab": {}
      },
      "source": [
        "import matplotlib.pyplot as plt\n",
        "fig, ax = plt.subplots(1, 2, figsize=(14, 5))\n",
        "by_time.ix['Weekday'].plot(ax=ax[0], title='Weekdays',\n",
        "                           xticks=hourly_ticks, style=[':', '--', '-'])\n",
        "by_time.ix['Weekend'].plot(ax=ax[1], title='Weekends',\n",
        "                           xticks=hourly_ticks, style=[':', '--', '-']);"
      ],
      "execution_count": 0,
      "outputs": []
    }
  ]
}